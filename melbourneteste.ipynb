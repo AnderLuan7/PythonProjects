{
 "cells": [
  {
   "cell_type": "code",
   "execution_count": null,
   "id": "cf8fcba3-60ab-4495-9193-aaf186e2c8c1",
   "metadata": {
    "tags": []
   },
   "outputs": [],
   "source": [
    "import pandas as pd\n",
    "import re"
   ]
  },
  {
   "cell_type": "code",
   "execution_count": null,
   "id": "b7a8e873-b2b8-418a-87ab-890a9a97fdca",
   "metadata": {
    "tags": []
   },
   "outputs": [],
   "source": [
    "df = pd.read_csv('melbourne/house.csv')"
   ]
  },
  {
   "cell_type": "code",
   "execution_count": null,
   "id": "eb740903-62fe-4622-8b62-9a0063c1e297",
   "metadata": {
    "tags": []
   },
   "outputs": [],
   "source": [
    "df\n",
    "\n",
    "filter1 = df.loc[(df['Rooms']) == 3 & (df['Type'] == 'h') &  (df['Price'] <= 500000)]"
   ]
  },
  {
   "cell_type": "code",
   "execution_count": null,
   "id": "7773f9c0-3bee-4841-963c-aa7999d524da",
   "metadata": {
    "tags": []
   },
   "outputs": [],
   "source": [
    "filter1"
   ]
  },
  {
   "cell_type": "code",
   "execution_count": null,
   "id": "c4c5c8fc-a2bd-4450-be10-1b7a5b7d53aa",
   "metadata": {
    "tags": []
   },
   "outputs": [],
   "source": [
    "filter2 = df.loc[df['Address'].str.contains('Turner st|Turner Rd', flags=re.I)]\n",
    "filter2"
   ]
  },
  {
   "cell_type": "code",
   "execution_count": null,
   "id": "72d1a9a0-1ab0-45f0-95ef-9feb51e79af1",
   "metadata": {
    "tags": []
   },
   "outputs": [],
   "source": [
    "filter3 = df.loc[df['Address'].str.contains('^59', flags=re.I) & (df['Price'] <= 500000)]\n",
    "filter3"
   ]
  },
  {
   "cell_type": "code",
   "execution_count": null,
   "id": "beea05bc-8e55-4585-8c62-2f9b8ddfecf2",
   "metadata": {
    "tags": []
   },
   "outputs": [],
   "source": [
    "df.loc[df['SellerG'] == 'Ronald', ['Method']] = 'Pending'\n",
    "df"
   ]
  },
  {
   "cell_type": "code",
   "execution_count": null,
   "id": "71928988-ba34-42c3-8b57-fa72955c87f0",
   "metadata": {
    "tags": []
   },
   "outputs": [],
   "source": [
    "df = pd.read_csv('melbourne/house.csv')\n"
   ]
  },
  {
   "cell_type": "code",
   "execution_count": null,
   "id": "54e17bf3-4417-49a5-8ace-1d81216ef917",
   "metadata": {
    "tags": []
   },
   "outputs": [],
   "source": [
    "df.groupby(['SellerG']).sum().sort_values('Rooms', ascending = False).head(10)"
   ]
  }
 ],
 "metadata": {
  "kernelspec": {
   "display_name": "Python 3 (ipykernel)",
   "language": "python",
   "name": "python3"
  },
  "language_info": {
   "codemirror_mode": {
    "name": "ipython",
    "version": 3
   },
   "file_extension": ".py",
   "mimetype": "text/x-python",
   "name": "python",
   "nbconvert_exporter": "python",
   "pygments_lexer": "ipython3",
   "version": "3.11.4"
  }
 },
 "nbformat": 4,
 "nbformat_minor": 5
}
