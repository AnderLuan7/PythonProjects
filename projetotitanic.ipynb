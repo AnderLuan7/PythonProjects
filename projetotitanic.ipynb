{
 "cells": [
  {
   "cell_type": "code",
   "execution_count": 6,
   "id": "c8610d95-5c27-41ef-bfd1-4658535d3953",
   "metadata": {
    "tags": []
   },
   "outputs": [],
   "source": [
    "import pandas as pd"
   ]
  },
  {
   "cell_type": "code",
   "execution_count": 7,
   "id": "ca7b491b-068a-4a31-9435-c775939636e7",
   "metadata": {
    "tags": []
   },
   "outputs": [],
   "source": [
    "df = pd.read_csv('projetotitanic/titanic.csv')\n",
    "\n",
    "filter1 = df[['Name', 'Age', 'Sex', 'Pclass', 'Survived']]\n",
    "filter1 = filter1.loc[(filter1['Sex'] == 'female') & (filter1['Pclass'] == 1) & (filter1['Survived'] == 1)]\n",
    "filter1 = filter1.sort_values(['Name'], ascending = True)\n",
    "filter1\n",
    "filter1.to_csv('titanic_solucao.csv', index = False)\n"
   ]
  }
 ],
 "metadata": {
  "kernelspec": {
   "display_name": "Python 3 (ipykernel)",
   "language": "python",
   "name": "python3"
  },
  "language_info": {
   "codemirror_mode": {
    "name": "ipython",
    "version": 3
   },
   "file_extension": ".py",
   "mimetype": "text/x-python",
   "name": "python",
   "nbconvert_exporter": "python",
   "pygments_lexer": "ipython3",
   "version": "3.11.4"
  }
 },
 "nbformat": 4,
 "nbformat_minor": 5
}
